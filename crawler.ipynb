{
 "cells": [
  {
   "cell_type": "code",
   "execution_count": 2,
   "metadata": {
    "collapsed": true
   },
   "outputs": [
    {
     "ename": "TypeError",
     "evalue": "__init__() got an unexpected keyword argument 'executable_path'",
     "output_type": "error",
     "traceback": [
      "\u001b[0;31m---------------------------------------------------------------------------\u001b[0m",
      "\u001b[0;31mTypeError\u001b[0m                                 Traceback (most recent call last)",
      "Cell \u001b[0;32mIn [2], line 6\u001b[0m\n\u001b[1;32m      4\u001b[0m \u001b[38;5;28;01mfrom\u001b[39;00m \u001b[38;5;21;01mselenium\u001b[39;00m\u001b[38;5;21;01m.\u001b[39;00m\u001b[38;5;21;01mwebdriver\u001b[39;00m\u001b[38;5;21;01m.\u001b[39;00m\u001b[38;5;21;01msupport\u001b[39;00m\u001b[38;5;21;01m.\u001b[39;00m\u001b[38;5;21;01mui\u001b[39;00m \u001b[38;5;28;01mimport\u001b[39;00m WebDriverWait\n\u001b[1;32m      5\u001b[0m \u001b[38;5;28;01mfrom\u001b[39;00m \u001b[38;5;21;01mselenium\u001b[39;00m\u001b[38;5;21;01m.\u001b[39;00m\u001b[38;5;21;01mwebdriver\u001b[39;00m\u001b[38;5;21;01m.\u001b[39;00m\u001b[38;5;21;01mcommon\u001b[39;00m\u001b[38;5;21;01m.\u001b[39;00m\u001b[38;5;21;01mkeys\u001b[39;00m \u001b[38;5;28;01mimport\u001b[39;00m Keys\n\u001b[0;32m----> 6\u001b[0m driver \u001b[38;5;241m=\u001b[39m \u001b[43mwebdriver\u001b[49m\u001b[38;5;241;43m.\u001b[39;49m\u001b[43mFirefox\u001b[49m\u001b[43m(\u001b[49m\u001b[43mexecutable_path\u001b[49m\u001b[38;5;241;43m=\u001b[39;49m\u001b[38;5;124;43m\"\u001b[39;49m\u001b[38;5;124;43m./chromedriver-mac-arm64/chromedriver\u001b[39;49m\u001b[38;5;124;43m\"\u001b[39;49m\u001b[43m)\u001b[49m\n\u001b[1;32m      7\u001b[0m driver\u001b[38;5;241m.\u001b[39mget(\u001b[38;5;124m\"\u001b[39m\u001b[38;5;124mhttps://udndata.com/ndapp/Index?cp=udn\u001b[39m\u001b[38;5;124m\"\u001b[39m)\n\u001b[1;32m      8\u001b[0m driver\u001b[38;5;241m.\u001b[39mfind_element_by_xpath(\u001b[38;5;124m\"\"\"\u001b[39m\u001b[38;5;124m//*[@id=\u001b[39m\u001b[38;5;124m\"\u001b[39m\u001b[38;5;124mcontainer\u001b[39m\u001b[38;5;124m\"\u001b[39m\u001b[38;5;124m]/header/div[2]/ul/li[2]/a\u001b[39m\u001b[38;5;124m\"\"\"\u001b[39m)\u001b[38;5;241m.\u001b[39mclick()\n",
      "\u001b[0;31mTypeError\u001b[0m: __init__() got an unexpected keyword argument 'executable_path'"
     ]
    }
   ],
   "source": [
    "import sys\n",
    "import codecs\n",
    "from selenium import webdriver\n",
    "from selenium.webdriver.support.ui import WebDriverWait\n",
    "from selenium.webdriver.common.keys import Keys\n",
    "\n",
    "driver = webdriver.Chrome(executable_path=\"./chromedriver-mac-arm64/chromedriver\")\n",
    "driver.get(\"https://udndata.com/ndapp/Index?cp=udn\")\n",
    "driver.find_element_by_xpath(\"\"\"//*[@id=\"container\"]/header/div[2]/ul/li[2]/a\"\"\").click()\n",
    "k=0\n",
    "j=0\n",
    "while k<=1303:\n",
    "    k+=1\n",
    "    driver.get(\"https://udndata.com/ndapp/Searchdec?udndbid=udndata&page=\" + str(k)+\"&SearchString=%C2%E5%C0%F8%2B%A4%E9%B4%C1%3E%3D20070101%2B%A4%E9%B4%C1%3C%3D20141231%2B%B3%F8%A7%4F%3D%C1%70%A6%58%B3%F8&sharepage=20&select=1&kind=2\")\n",
    "    myElem = WebDriverWait(driver, 8)\n",
    "    link = driver.find_elements_by_class_name('control-pic')\n",
    "    b = ['apple']*20\n",
    "    i = 0\n",
    "    for a in link:\n",
    "        b[i]=a.text\n",
    "        i+=1\n",
    "    #     a = a.find_element_by_xpath(\"//*[@href]\")\n",
    "    for c in b:\n",
    "        j+=1\n",
    "        driver.find_element_by_link_text(c).click()\n",
    "        myElem = WebDriverWait(driver, 5)\n",
    "    #     print(\"Page is ready!\")\n",
    "        d = driver.find_element_by_class_name('story-content')\n",
    "        path = 'articles/' + str(j)+'.txt'\n",
    "        sys.stdout = open(path,'wb')\n",
    "        UTF8Writer = codecs.getwriter('utf8')\n",
    "        sys.stdout = UTF8Writer(sys.stdout)\n",
    "        print(d.text)\n",
    "        driver.back()"
   ]
  }
 ],
 "metadata": {
  "kernelspec": {
   "display_name": "Python 3",
   "language": "python",
   "name": "python3"
  },
  "language_info": {
   "codemirror_mode": {
    "name": "ipython",
    "version": 3
   },
   "file_extension": ".py",
   "mimetype": "text/x-python",
   "name": "python",
   "nbconvert_exporter": "python",
   "pygments_lexer": "ipython3",
   "version": "3.8.10"
  }
 },
 "nbformat": 4,
 "nbformat_minor": 2
}
