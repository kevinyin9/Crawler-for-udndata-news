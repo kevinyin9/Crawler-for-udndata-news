{
 "cells": [
  {
   "cell_type": "code",
   "execution_count": null,
   "metadata": {
    "collapsed": true
   },
   "outputs": [],
   "source": [
    "import sys\n",
    "import codecs\n",
    "from selenium import webdriver\n",
    "from selenium.webdriver.support.ui import WebDriverWait\n",
    "from selenium.webdriver.common.keys import Keys\n",
    "driver = webdriver.Firefox(executable_path=r\"C:\\Users\\user\\Desktop\\geckodriver-v0.19.1-win64\\geckodriver.exe\")\n",
    "driver.get(\"https://udndata.com/ndapp/Index?cp=udn\")\n",
    "driver.find_element_by_xpath(\"\"\"//*[@id=\"container\"]/header/div[2]/ul/li[2]/a\"\"\").click()\n",
    "k=0\n",
    "j=0\n",
    "while k<=1303:\n",
    "    k+=1\n",
    "    driver.get(\"https://udndata.com/ndapp/Searchdec?udndbid=udndata&page=\" + str(k)+\"&SearchString=%C2%E5%C0%F8%2B%A4%E9%B4%C1%3E%3D20070101%2B%A4%E9%B4%C1%3C%3D20141231%2B%B3%F8%A7%4F%3D%C1%70%A6%58%B3%F8&sharepage=20&select=1&kind=2\")\n",
    "    myElem = WebDriverWait(driver, 8)\n",
    "    link = driver.find_elements_by_class_name('control-pic')\n",
    "    b = ['apple']*20\n",
    "    i = 0\n",
    "    for a in link:\n",
    "        b[i]=a.text\n",
    "        i+=1\n",
    "    #     a = a.find_element_by_xpath(\"//*[@href]\")\n",
    "    for c in b:\n",
    "        j+=1\n",
    "        driver.find_element_by_link_text(c).click()\n",
    "        myElem = WebDriverWait(driver, 5)\n",
    "    #     print(\"Page is ready!\")\n",
    "        d = driver.find_element_by_class_name('story-content')\n",
    "        path = 'articles/' + str(j)+'.txt'\n",
    "        sys.stdout = open(path,'wb')\n",
    "        UTF8Writer = codecs.getwriter('utf8')\n",
    "        sys.stdout = UTF8Writer(sys.stdout)\n",
    "        print(d.text)\n",
    "        driver.back()"
   ]
  }
 ],
 "metadata": {
  "kernelspec": {
   "display_name": "Python 3",
   "language": "python",
   "name": "python3"
  },
  "language_info": {
   "codemirror_mode": {
    "name": "ipython",
    "version": 3
   },
   "file_extension": ".py",
   "mimetype": "text/x-python",
   "name": "python",
   "nbconvert_exporter": "python",
   "pygments_lexer": "ipython3",
   "version": "3.6.3"
  }
 },
 "nbformat": 4,
 "nbformat_minor": 2
}
